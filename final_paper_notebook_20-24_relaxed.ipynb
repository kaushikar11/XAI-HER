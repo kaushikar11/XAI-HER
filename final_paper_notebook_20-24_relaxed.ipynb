{
 "cells": [
  {
   "cell_type": "code",
   "execution_count": null,
   "id": "0a5a0ced",
   "metadata": {},
   "outputs": [],
   "source": [
    "!pip install lime\n",
    "!pip install shap\n",
    "import shap\n",
    "from sklearn.model_selection import train_test_split\n",
    "from sklearn.tree import DecisionTreeClassifier\n",
    "from sklearn.ensemble import RandomForestClassifier,RandomForestRegressor\n",
    "from sklearn.metrics import accuracy_score\n",
    "from sklearn.metrics import confusion_matrix\n",
    "import time\n",
    "import lime\n",
    "from lime.lime_tabular import LimeTabularExplainer\n",
    "import numpy as np\n",
    "import seaborn as sns"
   ]
  },
  {
   "cell_type": "code",
   "execution_count": null,
   "id": "c5c1bb10",
   "metadata": {},
   "outputs": [],
   "source": [
    "import pandas as pd\n",
    "import matplotlib.pyplot as plt\n",
    "\n",
    "def preprocess_data(annotation_file, physiological_file):\n",
    "    # Read annotation data\n",
    "    annotation_data = pd.read_csv(annotation_file)\n",
    "\n",
    "    # Classify emotion based on valence and arousal\n",
    "    def classify_emotion(arousal, valence):\n",
    "        arousal_bins = [-26225, -13112, 0, 13112, 26225]\n",
    "        valence_bins = [-26225, -13112, 0, 13112, 26225]\n",
    "\n",
    "        arousal_label = pd.cut([arousal], bins=arousal_bins,\n",
    "                               labels=False, include_lowest=True)\n",
    "        valence_label = pd.cut([valence], bins=valence_bins,\n",
    "                               labels=False, include_lowest=True)\n",
    "\n",
    "        return f'Partition_{arousal_label}_{valence_label}'\n",
    "    \n",
    "    annotation_data = annotation_data[annotation_data['video'].isin([5.0, 6.0])]\n",
    "\n",
    "    annotation_data['Emotion_Partition'] = annotation_data.apply(\n",
    "        lambda row: classify_emotion(row['arousal'], row['valence']), axis=1)\n",
    "\n",
    "    # Define the rectangular partition\n",
    "    rectangular_partition = {\n",
    "        'arousal': (-3000, 3000), 'valence': (-3000, 3000)}\n",
    "    \n",
    "    # Assuming you have a DataFrame named 'annotation_data' with columns 'arousal', 'valence', and 'Emotion'\n",
    "    annotation_data['Emotion'] = ''\n",
    "\n",
    "    for index, row in annotation_data.iterrows():\n",
    "        arousal = row['arousal']\n",
    "        valence = row['valence']\n",
    "\n",
    "        if -3000 <= arousal <= 3000 and -3000 <= valence <= 3000:\n",
    "            annotation_data.loc[index, 'Emotion'] = 'Neutral'\n",
    "        else:\n",
    "            if -26225 <= arousal <= -13112:\n",
    "                if -26225 <= valence <= -13112:\n",
    "                    annotation_data.loc[index,\n",
    "                                        'Emotion'] = 'Anxious or Dejected'\n",
    "                elif -13112 <= valence <= 0:\n",
    "                    annotation_data.loc[index, 'Emotion'] = 'Tired or Bored'\n",
    "                elif 0 <= valence <= 13112:\n",
    "                    annotation_data.loc[index, 'Emotion'] = 'Polite or Sleepy'\n",
    "                else:\n",
    "                    annotation_data.loc[index, 'Emotion'] = 'Relaxed or Calm'\n",
    "            elif -13112 <= arousal <= 0:\n",
    "                if -26225 <= valence <= -13112:\n",
    "                    annotation_data.loc[index, 'Emotion'] = 'Miserable or Sad'\n",
    "                elif -13112 <= valence <= 0:\n",
    "                    annotation_data.loc[index,\n",
    "                                        'Emotion'] = 'Worried or Apathetic'\n",
    "                elif 0 <= valence <= 13112:\n",
    "                    annotation_data.loc[index,\n",
    "                                        'Emotion'] = 'Confident or Attentive'\n",
    "                else:\n",
    "                    annotation_data.loc[index, 'Emotion'] = 'Pleased or Glad'\n",
    "            elif 0 <= arousal <= 13112:\n",
    "                if -26225 <= valence <= -13112:\n",
    "                    annotation_data.loc[index,\n",
    "                                        'Emotion'] = 'Frustrated or Discontented'\n",
    "                elif -13112 <= valence <= 0:\n",
    "                    annotation_data.loc[index,\n",
    "                                        'Emotion'] = 'Frustrated or Impatient'\n",
    "                elif 0 <= valence <= 13112:\n",
    "                    annotation_data.loc[index,\n",
    "                                        'Emotion'] = 'Passionate or Amused'\n",
    "                else:\n",
    "                    annotation_data.loc[index,\n",
    "                                        'Emotion'] = 'Delighted or Happy'\n",
    "            else:\n",
    "                if -26225 <= valence <= -13112:\n",
    "                    annotation_data.loc[index,\n",
    "                                        'Emotion'] = 'Distressed or Defiant'\n",
    "                elif -13112 <= valence <= 0:\n",
    "                    annotation_data.loc[index, 'Emotion'] = 'Tensed or Annoyed'\n",
    "                elif 0 <= valence <= 13112:\n",
    "                    annotation_data.loc[index,\n",
    "                                        'Emotion'] = 'Aroused or Astonished'\n",
    "                else:\n",
    "                    annotation_data.loc[index,\n",
    "                                        'Emotion'] = 'Excited or Adventurous'\n",
    "                    \n",
    "    # Scatter plot with color-coded partitions\n",
    "    c = annotation_data['Emotion_Partition'].astype('category').cat.codes\n",
    "    plt.scatter(annotation_data['valence'], annotation_data['arousal'],\n",
    "                c=c, cmap='viridis', label='Other Partitions')\n",
    "\n",
    "    # Draw vertical lines for Arousal partitions\n",
    "    arousal_bins = [-26225, -13112, 0, 13112, 26225]\n",
    "    for bin_value in arousal_bins[1:-1]:\n",
    "        plt.axvline(x=bin_value, color='black', linestyle='--', linewidth=1)\n",
    "\n",
    "    # Draw horizontal lines for Valence partitions\n",
    "    valence_bins = [-26225, -13112, 0, 13112, 26225]\n",
    "    for bin_value in valence_bins[1:-1]:\n",
    "        plt.axhline(y=bin_value, color='black', linestyle='--', linewidth=1)\n",
    "\n",
    "    # Create a mask for points inside the rectangular partition\n",
    "    mask = (\n",
    "        (annotation_data['arousal'] >= rectangular_partition['arousal'][0]) &\n",
    "        (annotation_data['arousal'] <= rectangular_partition['arousal'][1]) &\n",
    "        (annotation_data['valence'] >= rectangular_partition['valence'][0]) &\n",
    "        (annotation_data['valence'] <= rectangular_partition['valence'][1])\n",
    "    )\n",
    "\n",
    "    # Scatter plot for points inside the rectangular partition with a different color\n",
    "    plt.scatter(annotation_data.loc[mask,\n",
    "                'valence'], annotation_data.loc[mask, 'arousal'], c='red', label='Rectangular Partition')\n",
    "\n",
    "    plt.title(\n",
    "        'Emotion Partitions based on Arousal and Valence with Extra Partition Rectangle')\n",
    "    plt.xlabel('Arousal')\n",
    "    plt.ylabel('Valence')\n",
    "    plt.legend()\n",
    "    plt.show()\n",
    "\n",
    "    # Assuming you have a DataFrame named 'annotation_data' with columns 'arousal', 'valence', and 'Emotion'\n",
    "    annotation_data_1 = annotation_data.drop('Emotion_Partition', axis=1)\n",
    "    physiological_data = pd.read_csv(physiological_file)\n",
    "    # Assuming you have a DataFrame named 'merged_data' with columns 'video_x', 'video_y', and 'time'\n",
    "\n",
    "    annotation_data_1['jstime'] = annotation_data_1['jstime'].astype('int')\n",
    "    physiological_data['daqtime'] = physiological_data['daqtime'].astype('int')\n",
    "\n",
    "    annotation_data_1.rename(columns={\"jstime\": \"time\"}, inplace=True)\n",
    "\n",
    "    physiological_data.rename(columns={\"daqtime\": \"time\"}, inplace=True)\n",
    "\n",
    "    merged_data = pd.merge(\n",
    "        annotation_data_1, physiological_data, on=\"time\", how=\"left\")\n",
    "\n",
    "    return merged_data\n",
    "\n",
    "# merged_data = preprocess_data(f'C:/Users/Kaushik/Documents/RESEARCH PAPERS/JOURNAL/journal/dataset/1-30_annotation/sub_{subject}.csv',\n",
    "#                               f'C:/Users/Kaushik/Documents/RESEARCH PAPERS/JOURNAL/journal/dataset/1-30_physiological/sub_{subject}.csv')\n",
    "    "
   ]
  },
  {
   "cell_type": "code",
   "execution_count": null,
   "id": "8e90fcc1",
   "metadata": {},
   "outputs": [],
   "source": [
    "# print(X_test[0:100])\n",
    "# np.array(shap_values_RF_test).shape"
   ]
  },
  {
   "cell_type": "code",
   "execution_count": null,
   "id": "1ad02a61",
   "metadata": {},
   "outputs": [],
   "source": [
    "#FOR 20-24 AGE CATEGORY all merged\n",
    "\n",
    "import pandas as pd\n",
    "import matplotlib.pyplot as plt\n",
    "from sklearn.preprocessing import LabelEncoder\n",
    "\n",
    "\n",
    "# Preprocess data for the current subject\n",
    "merged_data_1 = preprocess_data(\n",
    "    f'C:/Users/Kaushik/Documents/RESEARCH PAPERS/JOURNAL/journal/dataset/relaxed_annotations.csv',\n",
    "    f'C:/Users/Kaushik/Documents/RESEARCH PAPERS/JOURNAL/journal/dataset/relaxed_physiological.csv'\n",
    ")\n",
    "    \n",
    "\n",
    "merged_data_1['valence'] = merged_data_1['valence'].fillna(method=\"ffill\")\n",
    "merged_data_1['arousal'] = merged_data_1['arousal'].fillna(method=\"ffill\")\n",
    "merged_data_1 = merged_data_1[merged_data_1['video_x'] == merged_data_1['video_y']]\n",
    "merged_data_1 = merged_data_1[merged_data_1['Emotion'] != 'Neutral']\n",
    "sub_data = merged_data_1.drop('time', axis=1)\n",
    "print(sub_data['Emotion'].unique())\n",
    "print(sub_data)\n",
    "print(len(sub_data))\n",
    "label_encoder = LabelEncoder()\n",
    "X=sub_data.drop(['Emotion','valence','arousal','video_y','video_x'],axis=1)\n",
    "y=sub_data['Emotion']\n",
    "y_encoded = label_encoder.fit_transform(sub_data['Emotion'])\n",
    "encoded_classes = label_encoder.classes_\n",
    "y = y_encoded\n",
    "\n",
    "print(len(X))\n",
    "print(len(y))\n",
    "X_train, X_test, y_train, y_test = train_test_split(\n",
    "    X, y, test_size=0.2, random_state=42)\n",
    "\n",
    "\n",
    "\n"
   ]
  },
  {
   "cell_type": "code",
   "execution_count": null,
   "id": "aec10db7",
   "metadata": {},
   "outputs": [],
   "source": [
    "print(encoded_classes)"
   ]
  },
  {
   "cell_type": "code",
   "execution_count": null,
   "id": "2d440b47",
   "metadata": {},
   "outputs": [],
   "source": [
    "for i in range(10000):\n",
    "    if y_test[i]==12:\n",
    "        print(X_test.iloc[i])\n",
    "        print(y_test[i])\n",
    "        print(i)"
   ]
  },
  {
   "cell_type": "code",
   "execution_count": 53,
   "id": "837199a0",
   "metadata": {},
   "outputs": [
    {
     "name": "stdout",
     "output_type": "stream",
     "text": [
      "['Anxious or Dejected' 'Aroused or Astonished' 'Confident or Attentive'\n",
      " 'Delighted or Happy' 'Distressed or Defiant' 'Excited or Adventurous'\n",
      " 'Frustrated or Discontented' 'Frustrated or Impatient' 'Miserable or Sad'\n",
      " 'Passionate or Amused' 'Pleased or Glad' 'Polite or Sleepy'\n",
      " 'Relaxed or Calm' 'Tensed or Annoyed' 'Tired or Bored'\n",
      " 'Worried or Apathetic']\n"
     ]
    }
   ],
   "source": [
    "print(encoded_classes)"
   ]
  },
  {
   "cell_type": "code",
   "execution_count": null,
   "id": "690b47ed",
   "metadata": {},
   "outputs": [],
   "source": [
    "rf=RandomForestClassifier()\n",
    "rf.fit(X_train,y_train)\n",
    "t0 = time.time()\n",
    "explainerRF = shap.TreeExplainer(rf)\n",
    "shap_values_RF_test = explainerRF.shap_values(X_test[4059:5059])\n",
    "t1 = time.time()\n",
    "timeit=t1-t0\n",
    "print(\"TIME to interpret\\n\\n\",timeit, \"seconds\")\n",
    "categorical_features = np.argwhere(np.array([len(set(X_train.values[:,x]))\n",
    "for x in range(X_train.values.shape[1])]) <= 10).flatten()\n",
    "\n",
    "class_names = encoded_classes\n",
    "shap.summary_plot(shap_values_RF_test, X_test,class_names=class_names)\n"
   ]
  },
  {
   "cell_type": "code",
   "execution_count": null,
   "id": "810f0e91",
   "metadata": {},
   "outputs": [],
   "source": [
    "y_test"
   ]
  },
  {
   "cell_type": "code",
   "execution_count": null,
   "id": "05cd1871",
   "metadata": {},
   "outputs": [],
   "source": [
    "\n",
    "y_pred = rf.predict(X_test)\n",
    "cm = confusion_matrix(y_test, y_pred)\n",
    "\n",
    "# Extract unique labels from y_test\n",
    "unique_labels = sorted(set(y_test))\n",
    "\n",
    "# Create a filtered list of class names\n",
    "filtered_class_names = [class_names[i] for i in unique_labels]\n",
    "\n",
    "plt.figure(figsize=(13, 13))\n",
    "sns.heatmap(cm, annot=True, fmt=\"d\", cmap=\"coolwarm\", cbar=False,\n",
    "            xticklabels=filtered_class_names,\n",
    "            yticklabels=filtered_class_names,\n",
    "            annot_kws={\"size\": 16})\n",
    "plt.xticks(fontsize=14)\n",
    "plt.yticks(fontsize=14)\n",
    "plt.title(\"Confusion Matrix\")\n",
    "plt.xlabel(\"Predicted Label\")\n",
    "plt.ylabel(\"True Label\")\n",
    "plt.show()\n",
    "plt.savefig(\"amusing_confusion_matrix.png\", bbox_inches='tight', dpi=300)\n"
   ]
  },
  {
   "cell_type": "code",
   "execution_count": null,
   "id": "9e12a31a",
   "metadata": {},
   "outputs": [],
   "source": [
    "print(accuracy_score(y_test,y_pred))\n",
    "feature_importances = rf.feature_importances_\n",
    "\n",
    "# Sort features based on importance\n",
    "sorted_idx = feature_importances.argsort()\n",
    "\n",
    "# Plotting the feature importances\n",
    "plt.barh(range(X_train.shape[1]), feature_importances[sorted_idx])\n",
    "plt.yticks(range(X_train.shape[1]), X_train.columns[sorted_idx])\n",
    "plt.xlabel('Feature Importance')\n",
    "plt.show()"
   ]
  },
  {
   "cell_type": "code",
   "execution_count": null,
   "id": "7006ddd7",
   "metadata": {},
   "outputs": [],
   "source": [
    "y_test[4059]"
   ]
  },
  {
   "cell_type": "code",
   "execution_count": null,
   "id": "72d45ade",
   "metadata": {},
   "outputs": [],
   "source": [
    "instance_index = 0\n",
    "print(X_test.iloc[4059])\n",
    "print(class_names[y_test[instance_index]])\n",
    "for i in range(len(class_names)):\n",
    "    print(class_names[i])\n",
    "    print(shap_values_RF_test[i][instance_index][:])"
   ]
  },
  {
   "cell_type": "code",
   "execution_count": null,
   "id": "d974ac28",
   "metadata": {},
   "outputs": [],
   "source": [
    "colour_scheme = 'cool'"
   ]
  },
  {
   "cell_type": "code",
   "execution_count": null,
   "id": "692382d4",
   "metadata": {},
   "outputs": [],
   "source": [
    "class_names = encoded_classes\n",
    "\n",
    "for i in range(0,len(class_names)):\n",
    "    print(\"FOR \",class_names[i])\n",
    "    shap.summary_plot(shap_values_RF_test[i],X_test[0:100],class_names=class_names,max_display = 8,cmap=colour_scheme)\n",
    "    plt.tight_layout()\n",
    "    plt.savefig('shap_summary_plot.png', bbox_inches='tight')\n",
    "    plt.show()"
   ]
  },
  {
   "cell_type": "code",
   "execution_count": null,
   "id": "7e863839",
   "metadata": {},
   "outputs": [],
   "source": [
    "class_names = encoded_classes\n",
    "\n",
    "for i in range(0,len(class_names)):\n",
    "    print(\"FOR \",class_names[i])\n",
    "    shap.summary_plot(shap_values_RF_test[i],X_test[0:100],class_names=class_names,max_display = 8,plot_type=\"bar\")\n",
    "\n",
    "plt.tight_layout()\n",
    "\n",
    "# Save or show the plot\n",
    "plt.savefig('shap_summary_plot.png', bbox_inches='tight')\n",
    "plt.show()"
   ]
  },
  {
   "cell_type": "code",
   "execution_count": null,
   "id": "71dbc726",
   "metadata": {},
   "outputs": [],
   "source": [
    "shap.initjs()\n",
    "from IPython.display import display\n",
    "print(X_test.iloc[instance_index])\n",
    "print(class_names[y_test[4059]])\n",
    "\n",
    "for i in range(len(class_names)):\n",
    "    print(\"CLASS \",class_names[i])\n",
    "    display(shap.force_plot(explainerRF.expected_value[i], shap_values_RF_test[i][0][:], X_test.iloc[[4059]], plot_cmap=\"GnPR\"))\n",
    "    print(\"CLASS \",class_names[i])\n",
    "    display(shap.force_plot(explainerRF.expected_value[i], shap_values_RF_test[i][:][:], X_test.iloc[4059:5059],plot_cmap=\"GnPR\"))"
   ]
  },
  {
   "cell_type": "code",
   "execution_count": null,
   "id": "8fa87896",
   "metadata": {},
   "outputs": [],
   "source": [
    "import time\n",
    "start = time.time()\n",
    "explanation = explainerRF(X_test[0:100])\n",
    "end = time.time()\n",
    "print(end-start)"
   ]
  },
  {
   "cell_type": "code",
   "execution_count": null,
   "id": "6014eb8e",
   "metadata": {},
   "outputs": [],
   "source": [
    "# shap.plots.force(explanation[0])\n",
    "np.array(explanation).shape\n",
    "print(X_test)\n",
    "feature_names = ['ecg','bvp','gsr','rsp','skt','emg_zygo','emg_coru','emg_trap']"
   ]
  },
  {
   "cell_type": "code",
   "execution_count": null,
   "id": "ef101c8f",
   "metadata": {},
   "outputs": [],
   "source": [
    "len(explanation)"
   ]
  },
  {
   "cell_type": "code",
   "execution_count": null,
   "id": "85163452",
   "metadata": {},
   "outputs": [],
   "source": [
    "for i in range(len(class_names)):\n",
    "    class_name = i\n",
    "    print(\"CLASS NAME \", class_names[class_name])\n",
    "    EXP = shap.Explanation(\n",
    "        values=explanation[0].values[:,class_name],\n",
    "        base_values=explanation[0].base_values[class_name],\n",
    "        data = explanation[0].data,\n",
    "        feature_names = feature_names\n",
    "    )\n",
    "    shap.waterfall_plot(EXP,max_display = 8)"
   ]
  },
  {
   "cell_type": "code",
   "execution_count": null,
   "id": "8c66092b",
   "metadata": {},
   "outputs": [],
   "source": [
    "class_names[y_test[4059]]"
   ]
  },
  {
   "cell_type": "code",
   "execution_count": null,
   "id": "91996a7a",
   "metadata": {},
   "outputs": [],
   "source": [
    "X_test.iloc[4059]"
   ]
  },
  {
   "cell_type": "code",
   "execution_count": null,
   "id": "791ea420",
   "metadata": {},
   "outputs": [],
   "source": [
    "for i in range(len(class_names)):\n",
    "    print(\"CLASS \",class_names[i])\n",
    "    shap.decision_plot(explainerRF.expected_value[i], shap_values_RF_test[i][0], X_test.iloc[1732])"
   ]
  },
  {
   "cell_type": "code",
   "execution_count": null,
   "id": "29eb417d",
   "metadata": {},
   "outputs": [],
   "source": [
    "explainer = lime.lime_tabular.LimeTabularExplainer(\n",
    "    X_train.values, feature_names=X_train.columns, mode=\"classification\",kernel_width=0.5)\n",
    "t0 = time.time()\n",
    "\n",
    "explanations_test = []\n",
    "\n",
    "explanation_lime = explainer.explain_instance(\n",
    "    X_test.values[instance_index], rf.predict_proba, num_features=10, top_labels=14)\n",
    "explanations_test.append(explanation_lime)\n",
    "\n",
    "t1 = time.time()\n",
    "timeit = t1 - t0\n",
    "print(\"TIME to interpret\\n\\n\", timeit, \"seconds\")"
   ]
  },
  {
   "cell_type": "code",
   "execution_count": null,
   "id": "8dd4609b",
   "metadata": {},
   "outputs": [],
   "source": [
    "explanation = explanations_test[0]\n",
    "explanation.show_in_notebook()"
   ]
  },
  {
   "cell_type": "code",
   "execution_count": null,
   "id": "87f2d845",
   "metadata": {},
   "outputs": [],
   "source": [
    "for i in range(len(encoded_classes)):\n",
    "    explanation.as_pyplot_figure(label=i)"
   ]
  },
  {
   "cell_type": "code",
   "execution_count": null,
   "id": "5c771ae7",
   "metadata": {},
   "outputs": [],
   "source": []
  },
  {
   "cell_type": "code",
   "execution_count": null,
   "id": "94f6f2dc",
   "metadata": {},
   "outputs": [],
   "source": []
  }
 ],
 "metadata": {
  "kernelspec": {
   "display_name": "Python 3 (ipykernel)",
   "language": "python",
   "name": "python3"
  },
  "language_info": {
   "codemirror_mode": {
    "name": "ipython",
    "version": 3
   },
   "file_extension": ".py",
   "mimetype": "text/x-python",
   "name": "python",
   "nbconvert_exporter": "python",
   "pygments_lexer": "ipython3",
   "version": "3.9.12"
  }
 },
 "nbformat": 4,
 "nbformat_minor": 5
}
